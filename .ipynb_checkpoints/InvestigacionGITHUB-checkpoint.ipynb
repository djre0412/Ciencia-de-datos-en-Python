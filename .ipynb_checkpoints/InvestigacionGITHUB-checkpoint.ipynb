{
 "cells": [
  {
   "cell_type": "markdown",
   "id": "acf01429-2e9b-49c3-95f3-0a2815c3bc4d",
   "metadata": {},
   "source": [
    "#### **Laboratorio 1**\n",
    "##### Darwin Josue Rojas Echeverría\n",
    "##### 23008435\n",
    "##### *Ciencia de Datos en Python*"
   ]
  },
  {
   "cell_type": "markdown",
   "id": "755f801b-d4f6-4f99-9ea2-5bfa132fa1d9",
   "metadata": {},
   "source": [
    "# **Git y GitHub**"
   ]
  },
  {
   "cell_type": "markdown",
   "id": "804ff974-f35b-47b4-aca2-34874909624b",
   "metadata": {},
   "source": [
    "## **¿Que es Git?**"
   ]
  },
  {
   "cell_type": "markdown",
   "id": "defcb01c-7a5b-41eb-b10e-272a2bff3934",
   "metadata": {},
   "source": [
    "Es un sistema de control de versiones distribuido que permite registrar los cambios que se hacen en un archivo y volver a versiones anteriores si algo sale mal. Fue creado con el fin de mantener un control de versiones. Fue diseñado para garantizar la eficiencia y confiabilidad del mantenimiento de versiones de aplicaciones."
   ]
  },
  {
   "cell_type": "markdown",
   "id": "6c4cfc20-5457-4ca9-a3b0-55a67be979d9",
   "metadata": {},
   "source": [
    "### **Sistema de Trabajo**"
   ]
  },
  {
   "cell_type": "markdown",
   "id": "c7a904da-d499-414d-b218-aa84820afe1d",
   "metadata": {},
   "source": [
    "#### *Ramas*"
   ]
  },
  {
   "cell_type": "markdown",
   "id": "26604575-bc96-4c70-9af7-c95cbafab9c4",
   "metadata": {},
   "source": [
    "Cada desarrollador guarda los cambios en su propio repositorio de código local. Como resultado, puede haber muchos cambios diferentes basados en la misma confirmación. Git proporciona herramientas para aislar los cambios y volver a combinarlos posteriormente.\n"
   ]
  },
  {
   "cell_type": "markdown",
   "id": "7c190ad0-fe26-4a2d-82a9-45c00d03e74d",
   "metadata": {
    "editable": true,
    "slideshow": {
     "slide_type": ""
    },
    "tags": []
   },
   "source": [
    "<img src=https://www.espai.es/blog/wp-content/uploads/2021/05/fusion-con-rama-master-git.jpg>\n"
   ]
  },
  {
   "cell_type": "markdown",
   "id": "e6f25c8f-6e0e-49b3-8b56-e1c5b3b938a2",
   "metadata": {},
   "source": [
    "### **Ventajas de Git**"
   ]
  },
  {
   "cell_type": "markdown",
   "id": "59885898-0234-4f1d-9db0-2c7ce8044fdb",
   "metadata": {
    "tags": []
   },
   "source": [
    "* Se centra en el contenido del archivo y no en el nombre\n",
    "* Puede trabajar con ramas\n",
    "* emplea una combinación de codificación delta y compresión, y guarda explícitamente el contenido de los directorios y los objetos de metadatos de las versiones. \n",
    "* Cuenta con un autentico historial de contenido del código fuente\n",
    "* Vela por la integridad del código fuente\n",
    "* Permite el trabajo en equipo de forma segura"
   ]
  },
  {
   "cell_type": "markdown",
   "id": "e85f5850-2322-4c5f-be9e-6848a229fd6b",
   "metadata": {},
   "source": [
    "### **Comandos Principales a usar en Git**"
   ]
  },
  {
   "cell_type": "markdown",
   "id": "f97ced45-2ffc-4086-a375-43cf607b4c91",
   "metadata": {},
   "source": [
    "* Git clone: realiza una copia idéntica de la última versión de un proyecto en un repositorio y la guarda en tu ordenador\n",
    "\n",
    "* Git branch: para crear ramas, listarlas y eliminarlas.\n",
    "\n",
    "* Git checkout: para cambiar de una rama a otra.\n",
    "\n",
    "* Git status: da toda la información necesaria sobre la rama actual.\n",
    "\n",
    "* Git add: para incluir los cambios del o de los archivos en tu siguiente commit **(El comando git add no cambia el repositorio y los cambios que no han sido guardados hasta que no utilicemos el comando de confirmación git commit.).**\n",
    "\n",
    "* Git commit: es uno de los más utilizados y sirve para establecer un punto de control en el proceso de desarrollo al cual se puede volver más tarde si es necesario.\n",
    "\n",
    "* Git push:  envía los commits al repositorio remoto.\n",
    "\n",
    "* Git pull: recoge actualizaciones del repositorio remoto (git fetch) e inmediatamente aplica estos últimos cambios en local (git merge).\n",
    "\n",
    "* Git revert: para deshacer los cambios que se han hecho.\n",
    "\n",
    "* Git merge:  integra las características de una rama con todos los commits realizados a las ramas dev (o master)."
   ]
  },
  {
   "cell_type": "markdown",
   "id": "2f89984b-4b05-4f88-9c80-d34d18ed4aa0",
   "metadata": {},
   "source": [
    "### **¿Que es GitHub?**"
   ]
  },
  {
   "cell_type": "markdown",
   "id": "52f3c478-3c52-4cb2-a396-1403b57fe6b8",
   "metadata": {},
   "source": [
    "Es un portal creado para alojar el código de las aplicaciones de cualquier desarrollador, y que fue comprada por Microsoft en junio del 2018. La plataforma está creada para que los desarrolladores suban el código de sus aplicaciones y herramientas, y que como usuario no sólo puedas descargarte la aplicación, sino también entrar a su perfil para leer sobre ella o colaborar con su desarrollo.\n",
    "\n",
    "Tiene un sistema de seguimiento de problemas, para que otras personas puedan hacer mejoras, sugerencias y optimizaciones en los proyectos. Ofrece también una herramienta de revisión de código, de forma que no sólo se pueda mirar el código fuente de una herramienta, sino que también se pueden dejar anotaciones para que su creador o tú mismo después si es tu proyecto las podáis revisar. "
   ]
  },
  {
   "cell_type": "markdown",
   "id": "5c8ac7bd-22b8-4ca9-ba08-2bf55382815d",
   "metadata": {
    "tags": []
   },
   "source": [
    "# **Carga de Jupyter Notebook a GitHub**"
   ]
  },
  {
   "cell_type": "markdown",
   "id": "a3fecb8a-ac7c-4d7a-8cdb-648005d8aa50",
   "metadata": {},
   "source": [
    "#### **Carga de versiones usando Cell Magic**"
   ]
  },
  {
   "cell_type": "code",
   "execution_count": 5,
   "id": "3cfdd6a9-d213-432b-aa8b-9c41fda91e24",
   "metadata": {},
   "outputs": [
    {
     "name": "stdout",
     "output_type": "stream",
     "text": [
      "Microsoft Windows [Versi�n 10.0.22621.3007]\n",
      "(c) Microsoft Corporation. Todos los derechos reservados.\n",
      "\n",
      "(base) C:\\Users\\HP\\Documents\\MBI\\Ciencia de Datos Python\\Repositorio-GIT-Ciencia-Datos-Python>git status\n",
      "On branch master\n",
      "Changes to be committed:\n",
      "  (use \"git restore --staged <file>...\" to unstage)\n",
      "\tmodified:   .ipynb_checkpoints/InvestigacionGITHUB-checkpoint.ipynb\n",
      "\tmodified:   InvestigacionGITHUB.ipynb\n",
      "\n",
      "Changes not staged for commit:\n",
      "  (use \"git add <file>...\" to update what will be committed)\n",
      "  (use \"git restore <file>...\" to discard changes in working directory)\n",
      "\tmodified:   InvestigacionGITHUB.ipynb\n",
      "\n",
      "\n",
      "(base) C:\\Users\\HP\\Documents\\MBI\\Ciencia de Datos Python\\Repositorio-GIT-Ciencia-Datos-Python>"
     ]
    }
   ],
   "source": [
    "%%cmd\n",
    "git status"
   ]
  },
  {
   "cell_type": "code",
   "execution_count": 14,
   "id": "672eda9f-6883-4700-89ae-c34579a90156",
   "metadata": {
    "tags": []
   },
   "outputs": [
    {
     "name": "stdout",
     "output_type": "stream",
     "text": [
      "Microsoft Windows [Versi�n 10.0.22621.3007]\n",
      "(c) Microsoft Corporation. Todos los derechos reservados.\n",
      "\n",
      "(base) C:\\Users\\HP\\Documents\\MBI\\Ciencia de Datos Python\\Repositorio-GIT-Ciencia-Datos-Python>git add .\n"
     ]
    },
    {
     "name": "stderr",
     "output_type": "stream",
     "text": [
      "warning: in the working copy of '.ipynb_checkpoints/InvestigacionGITHUB-checkpoint.ipynb', LF will be replaced by CRLF the next time Git touches it\n",
      "warning: in the working copy of 'InvestigacionGITHUB.ipynb', LF will be replaced by CRLF the next time Git touches it\n"
     ]
    },
    {
     "name": "stdout",
     "output_type": "stream",
     "text": [
      "\n",
      "(base) C:\\Users\\HP\\Documents\\MBI\\Ciencia de Datos Python\\Repositorio-GIT-Ciencia-Datos-Python>"
     ]
    }
   ],
   "source": [
    "%%cmd\n",
    "git add ."
   ]
  },
  {
   "cell_type": "code",
   "execution_count": 15,
   "id": "25cb1749-6bbc-48c3-9d71-ddc36714d3c2",
   "metadata": {
    "tags": []
   },
   "outputs": [
    {
     "name": "stdout",
     "output_type": "stream",
     "text": [
      "Microsoft Windows [Versi�n 10.0.22621.3007]\n",
      "(c) Microsoft Corporation. Todos los derechos reservados.\n",
      "\n",
      "(base) C:\\Users\\HP\\Documents\\MBI\\Ciencia de Datos Python\\Repositorio-GIT-Ciencia-Datos-Python>git commit -m \"carga desde una magic cell\"\n",
      "[master 308e2e6] carga desde una magic cell\n",
      " 2 files changed, 174 insertions(+), 20 deletions(-)\n",
      "\n",
      "(base) C:\\Users\\HP\\Documents\\MBI\\Ciencia de Datos Python\\Repositorio-GIT-Ciencia-Datos-Python>"
     ]
    }
   ],
   "source": [
    "%%cmd\n",
    "git commit -m \"carga desde una magic cell\""
   ]
  },
  {
   "cell_type": "code",
   "execution_count": 16,
   "id": "581c4f59-2680-4591-bf54-34e7942e09d9",
   "metadata": {
    "tags": []
   },
   "outputs": [
    {
     "name": "stdout",
     "output_type": "stream",
     "text": [
      "Microsoft Windows [Versi�n 10.0.22621.3007]\n",
      "(c) Microsoft Corporation. Todos los derechos reservados.\n",
      "\n",
      "(base) C:\\Users\\HP\\Documents\\MBI\\Ciencia de Datos Python\\Repositorio-GIT-Ciencia-Datos-Python>git push origin master\n"
     ]
    },
    {
     "name": "stderr",
     "output_type": "stream",
     "text": [
      "To https://github.com/djre0412/Ciencia-de-datos-en-Python.git\n",
      "   1b35ca1..308e2e6  master -> master\n"
     ]
    },
    {
     "name": "stdout",
     "output_type": "stream",
     "text": [
      "\n",
      "(base) C:\\Users\\HP\\Documents\\MBI\\Ciencia de Datos Python\\Repositorio-GIT-Ciencia-Datos-Python>"
     ]
    }
   ],
   "source": [
    "%%cmd\n",
    "git push origin master"
   ]
  },
  {
   "cell_type": "code",
   "execution_count": null,
   "id": "9b413e25-d1a1-4265-84e3-3aaa996d2a25",
   "metadata": {},
   "outputs": [],
   "source": []
  }
 ],
 "metadata": {
  "kernelspec": {
   "display_name": "Python 3 (ipykernel)",
   "language": "python",
   "name": "python3"
  },
  "language_info": {
   "codemirror_mode": {
    "name": "ipython",
    "version": 3
   },
   "file_extension": ".py",
   "mimetype": "text/x-python",
   "name": "python",
   "nbconvert_exporter": "python",
   "pygments_lexer": "ipython3",
   "version": "3.11.5"
  }
 },
 "nbformat": 4,
 "nbformat_minor": 5
}
