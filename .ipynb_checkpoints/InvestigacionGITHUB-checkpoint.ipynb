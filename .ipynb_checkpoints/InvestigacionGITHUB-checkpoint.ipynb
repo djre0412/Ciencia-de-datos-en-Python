{
 "cells": [
  {
   "cell_type": "markdown",
   "id": "755f801b-d4f6-4f99-9ea2-5bfa132fa1d9",
   "metadata": {},
   "source": [
    "# Git y GitHub"
   ]
  },
  {
   "cell_type": "markdown",
   "id": "804ff974-f35b-47b4-aca2-34874909624b",
   "metadata": {},
   "source": [
    "### ¿Que es Git?"
   ]
  },
  {
   "cell_type": "markdown",
   "id": "defcb01c-7a5b-41eb-b10e-272a2bff3934",
   "metadata": {},
   "source": [
    "Es un sistema de control de versiones distribuido que permite registrar los cambios que se hacen en un archivo y volver a versiones anteriores si algo sale mal. Fue creado con el fin de mantener un control de versiones. Fue diseñado para garantizar la eficiencia y confiabilidad del mantenimiento de versiones de aplicaciones."
   ]
  },
  {
   "cell_type": "markdown",
   "id": "c7a904da-d499-414d-b218-aa84820afe1d",
   "metadata": {},
   "source": [
    "#### Ramas"
   ]
  },
  {
   "cell_type": "markdown",
   "id": "26604575-bc96-4c70-9af7-c95cbafab9c4",
   "metadata": {},
   "source": [
    "Cada desarrollador guarda los cambios en su propio repositorio de código local. Como resultado, puede haber muchos cambios diferentes basados en la misma confirmación. Git proporciona herramientas para aislar los cambios y volver a combinarlos posteriormente.\n"
   ]
  },
  {
   "cell_type": "markdown",
   "id": "7c190ad0-fe26-4a2d-82a9-45c00d03e74d",
   "metadata": {
    "editable": true,
    "slideshow": {
     "slide_type": ""
    },
    "tags": []
   },
   "source": [
    "<img src=https://www.espai.es/blog/wp-content/uploads/2021/05/fusion-con-rama-master-git.jpg>\n"
   ]
  },
  {
   "cell_type": "markdown",
   "id": "5c8ac7bd-22b8-4ca9-ba08-2bf55382815d",
   "metadata": {
    "tags": []
   },
   "source": [
    "este es otro cambio"
   ]
  },
  {
   "cell_type": "code",
   "execution_count": 5,
   "id": "3cfdd6a9-d213-432b-aa8b-9c41fda91e24",
   "metadata": {},
   "outputs": [
    {
     "name": "stdout",
     "output_type": "stream",
     "text": [
      "Microsoft Windows [Versi�n 10.0.22621.3007]\n",
      "(c) Microsoft Corporation. Todos los derechos reservados.\n",
      "\n",
      "(base) C:\\Users\\HP\\Documents\\MBI\\Ciencia de Datos Python\\Repositorio-GIT-Ciencia-Datos-Python>git status\n",
      "On branch master\n",
      "Changes to be committed:\n",
      "  (use \"git restore --staged <file>...\" to unstage)\n",
      "\tmodified:   .ipynb_checkpoints/InvestigacionGITHUB-checkpoint.ipynb\n",
      "\tmodified:   InvestigacionGITHUB.ipynb\n",
      "\n",
      "Changes not staged for commit:\n",
      "  (use \"git add <file>...\" to update what will be committed)\n",
      "  (use \"git restore <file>...\" to discard changes in working directory)\n",
      "\tmodified:   InvestigacionGITHUB.ipynb\n",
      "\n",
      "\n",
      "(base) C:\\Users\\HP\\Documents\\MBI\\Ciencia de Datos Python\\Repositorio-GIT-Ciencia-Datos-Python>"
     ]
    }
   ],
   "source": [
    "%%cmd\n",
    "git status"
   ]
  },
  {
   "cell_type": "code",
   "execution_count": null,
   "id": "672eda9f-6883-4700-89ae-c34579a90156",
   "metadata": {},
   "outputs": [],
   "source": [
    "%%cmd\n",
    "git add ."
   ]
  },
  {
   "cell_type": "code",
   "execution_count": 12,
   "id": "25cb1749-6bbc-48c3-9d71-ddc36714d3c2",
   "metadata": {
    "tags": []
   },
   "outputs": [
    {
     "name": "stdout",
     "output_type": "stream",
     "text": [
      "Microsoft Windows [Versi�n 10.0.22621.3007]\n",
      "(c) Microsoft Corporation. Todos los derechos reservados.\n",
      "\n",
      "(base) C:\\Users\\HP\\Documents\\MBI\\Ciencia de Datos Python\\Repositorio-GIT-Ciencia-Datos-Python>git commit -m \"carga desde una magic cell\"\n",
      "On branch master\n",
      "Changes not staged for commit:\n",
      "  (use \"git add <file>...\" to update what will be committed)\n",
      "  (use \"git restore <file>...\" to discard changes in working directory)\n",
      "\tmodified:   .ipynb_checkpoints/InvestigacionGITHUB-checkpoint.ipynb\n",
      "\tmodified:   InvestigacionGITHUB.ipynb\n",
      "\n",
      "no changes added to commit (use \"git add\" and/or \"git commit -a\")\n",
      "\n",
      "(base) C:\\Users\\HP\\Documents\\MBI\\Ciencia de Datos Python\\Repositorio-GIT-Ciencia-Datos-Python>"
     ]
    }
   ],
   "source": [
    "%%cmd\n",
    "git commit -m \"carga desde una magic cell\""
   ]
  },
  {
   "cell_type": "code",
   "execution_count": 13,
   "id": "581c4f59-2680-4591-bf54-34e7942e09d9",
   "metadata": {
    "tags": []
   },
   "outputs": [
    {
     "name": "stdout",
     "output_type": "stream",
     "text": [
      "Microsoft Windows [Versi�n 10.0.22621.3007]\n",
      "(c) Microsoft Corporation. Todos los derechos reservados.\n",
      "\n",
      "(base) C:\\Users\\HP\\Documents\\MBI\\Ciencia de Datos Python\\Repositorio-GIT-Ciencia-Datos-Python>git push origin master\n"
     ]
    },
    {
     "name": "stderr",
     "output_type": "stream",
     "text": [
      "Everything up-to-date\n"
     ]
    },
    {
     "name": "stdout",
     "output_type": "stream",
     "text": [
      "\n",
      "(base) C:\\Users\\HP\\Documents\\MBI\\Ciencia de Datos Python\\Repositorio-GIT-Ciencia-Datos-Python>"
     ]
    }
   ],
   "source": [
    "%%cmd\n",
    "git push origin master"
   ]
  },
  {
   "cell_type": "code",
   "execution_count": null,
   "id": "9b413e25-d1a1-4265-84e3-3aaa996d2a25",
   "metadata": {},
   "outputs": [],
   "source": []
  }
 ],
 "metadata": {
  "kernelspec": {
   "display_name": "Python 3 (ipykernel)",
   "language": "python",
   "name": "python3"
  },
  "language_info": {
   "codemirror_mode": {
    "name": "ipython",
    "version": 3
   },
   "file_extension": ".py",
   "mimetype": "text/x-python",
   "name": "python",
   "nbconvert_exporter": "python",
   "pygments_lexer": "ipython3",
   "version": "3.11.5"
  }
 },
 "nbformat": 4,
 "nbformat_minor": 5
}
