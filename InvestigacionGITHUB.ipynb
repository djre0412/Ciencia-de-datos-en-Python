{
 "cells": [
  {
   "cell_type": "markdown",
   "id": "755f801b-d4f6-4f99-9ea2-5bfa132fa1d9",
   "metadata": {},
   "source": [
    "# Git y GitHub"
   ]
  },
  {
   "cell_type": "markdown",
   "id": "804ff974-f35b-47b4-aca2-34874909624b",
   "metadata": {},
   "source": [
    "### ¿Que es Git?"
   ]
  },
  {
   "cell_type": "markdown",
   "id": "defcb01c-7a5b-41eb-b10e-272a2bff3934",
   "metadata": {},
   "source": [
    "Es un sistema de control de versiones distribuido que permite registrar los cambios que se hacen en un archivo y volver a versiones anteriores si algo sale mal. Fue creado con el fin de mantener un control de versiones. Fue diseñado para garantizar la eficiencia y confiabilidad del mantenimiento de versiones de aplicaciones."
   ]
  },
  {
   "cell_type": "markdown",
   "id": "c7a904da-d499-414d-b218-aa84820afe1d",
   "metadata": {},
   "source": [
    "#### Ramas"
   ]
  },
  {
   "cell_type": "markdown",
   "id": "26604575-bc96-4c70-9af7-c95cbafab9c4",
   "metadata": {},
   "source": [
    "Cada desarrollador guarda los cambios en su propio repositorio de código local. Como resultado, puede haber muchos cambios diferentes basados en la misma confirmación. Git proporciona herramientas para aislar los cambios y volver a combinarlos posteriormente.\n"
   ]
  },
  {
   "cell_type": "markdown",
   "id": "7c190ad0-fe26-4a2d-82a9-45c00d03e74d",
   "metadata": {
    "editable": true,
    "slideshow": {
     "slide_type": ""
    },
    "tags": []
   },
   "source": [
    "<img src=https://www.espai.es/blog/wp-content/uploads/2021/05/fusion-con-rama-master-git.jpg>\n"
   ]
  },
  {
   "cell_type": "code",
   "execution_count": null,
   "id": "8c649d36-cdab-4db8-a78e-bea59d01c8c5",
   "metadata": {},
   "outputs": [],
   "source": []
  }
 ],
 "metadata": {
  "kernelspec": {
   "display_name": "Python 3 (ipykernel)",
   "language": "python",
   "name": "python3"
  },
  "language_info": {
   "codemirror_mode": {
    "name": "ipython",
    "version": 3
   },
   "file_extension": ".py",
   "mimetype": "text/x-python",
   "name": "python",
   "nbconvert_exporter": "python",
   "pygments_lexer": "ipython3",
   "version": "3.11.5"
  }
 },
 "nbformat": 4,
 "nbformat_minor": 5
}
