{
 "cells": [
  {
   "cell_type": "markdown",
   "id": "755f801b-d4f6-4f99-9ea2-5bfa132fa1d9",
   "metadata": {},
   "source": [
    "# Git y GitHub"
   ]
  },
  {
   "cell_type": "markdown",
   "id": "804ff974-f35b-47b4-aca2-34874909624b",
   "metadata": {},
   "source": [
    "### ¿Que es Git?"
   ]
  },
  {
   "cell_type": "markdown",
   "id": "defcb01c-7a5b-41eb-b10e-272a2bff3934",
   "metadata": {},
   "source": [
    "Es un sistema de control de versiones distribuido que permite registrar los cambios que se hacen en un archivo y volver a versiones anteriores si algo sale mal. Fue creado con el fin de mantener un control de versiones. Fue diseñado para garantizar la eficiencia y confiabilidad del mantenimiento de versiones de aplicaciones."
   ]
  },
  {
   "cell_type": "markdown",
   "id": "c7a904da-d499-414d-b218-aa84820afe1d",
   "metadata": {},
   "source": [
    "#### Ramas"
   ]
  },
  {
   "cell_type": "markdown",
   "id": "26604575-bc96-4c70-9af7-c95cbafab9c4",
   "metadata": {},
   "source": [
    "Cada desarrollador guarda los cambios en su propio repositorio de código local. Como resultado, puede haber muchos cambios diferentes basados en la misma confirmación. Git proporciona herramientas para aislar los cambios y volver a combinarlos posteriormente.\n"
   ]
  },
  {
   "cell_type": "markdown",
   "id": "7c190ad0-fe26-4a2d-82a9-45c00d03e74d",
   "metadata": {
    "editable": true,
    "slideshow": {
     "slide_type": ""
    },
    "tags": []
   },
   "source": [
    "<img src=https://www.espai.es/blog/wp-content/uploads/2021/05/fusion-con-rama-master-git.jpg>\n"
   ]
  },
  {
   "cell_type": "markdown",
   "id": "5c8ac7bd-22b8-4ca9-ba08-2bf55382815d",
   "metadata": {
    "tags": []
   },
   "source": [
    "este es otro cambio"
   ]
  },
  {
   "cell_type": "code",
   "execution_count": 19,
   "id": "dbe21c3c-2829-4ebe-8e63-6b4e57e6d636",
   "metadata": {
    "tags": []
   },
   "outputs": [
    {
     "name": "stdout",
     "output_type": "stream",
     "text": [
      "Microsoft Windows [Versi�n 10.0.22621.3007]\n",
      "(c) Microsoft Corporation. Todos los derechos reservados.\n",
      "\n",
      "(base) C:\\Users\\HP\\Documents\\MBI\\Ciencia de Datos Python\\Repositorio-GIT-Ciencia-Datos-Python>git add .\n"
     ]
    },
    {
     "name": "stderr",
     "output_type": "stream",
     "text": [
      "\"git\" no se reconoce como un comando interno o externo,\n",
      "programa o archivo por lotes ejecutable.\n"
     ]
    },
    {
     "name": "stdout",
     "output_type": "stream",
     "text": [
      "\n",
      "(base) C:\\Users\\HP\\Documents\\MBI\\Ciencia de Datos Python\\Repositorio-GIT-Ciencia-Datos-Python>"
     ]
    }
   ],
   "source": [
    "%%cmd\n",
    "git add ."
   ]
  },
  {
   "cell_type": "code",
   "execution_count": null,
   "id": "3cfdd6a9-d213-432b-aa8b-9c41fda91e24",
   "metadata": {},
   "outputs": [],
   "source": [
    "git commit m- \"Carga desde una Cell Magic\""
   ]
  }
 ],
 "metadata": {
  "kernelspec": {
   "display_name": "Python 3 (ipykernel)",
   "language": "python",
   "name": "python3"
  },
  "language_info": {
   "codemirror_mode": {
    "name": "ipython",
    "version": 3
   },
   "file_extension": ".py",
   "mimetype": "text/x-python",
   "name": "python",
   "nbconvert_exporter": "python",
   "pygments_lexer": "ipython3",
   "version": "3.11.5"
  }
 },
 "nbformat": 4,
 "nbformat_minor": 5
}
